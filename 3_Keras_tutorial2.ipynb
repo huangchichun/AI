{
  "nbformat": 4,
  "nbformat_minor": 0,
  "metadata": {
    "colab": {
      "provenance": [],
      "gpuType": "T4"
    },
    "kernelspec": {
      "name": "python3",
      "display_name": "Python 3"
    },
    "language_info": {
      "name": "python"
    },
    "accelerator": "GPU"
  },
  "cells": [
    {
      "cell_type": "code",
      "execution_count": null,
      "metadata": {
        "colab": {
          "base_uri": "https://localhost:8080/"
        },
        "id": "jTWbyDPuynWq",
        "outputId": "f77e5e7b-275f-4ba8-f7e1-1f1f9d035e68"
      },
      "outputs": [
        {
          "output_type": "stream",
          "name": "stdout",
          "text": [
            "Epoch 1/10\n",
            "32/32 [==============================] - 12s 6ms/step - loss: 369.9480 - accuracy: 0.1170\n",
            "Epoch 2/10\n",
            "32/32 [==============================] - 0s 5ms/step - loss: 1196.4939 - accuracy: 0.0820\n",
            "Epoch 3/10\n",
            "32/32 [==============================] - 0s 6ms/step - loss: 2170.9585 - accuracy: 0.0920\n",
            "Epoch 4/10\n",
            "32/32 [==============================] - 0s 6ms/step - loss: 3407.6169 - accuracy: 0.0830\n",
            "Epoch 5/10\n",
            "32/32 [==============================] - 0s 9ms/step - loss: 4350.7246 - accuracy: 0.1070\n",
            "Epoch 6/10\n",
            "32/32 [==============================] - 0s 7ms/step - loss: 5689.4766 - accuracy: 0.0890\n",
            "Epoch 7/10\n",
            "32/32 [==============================] - 0s 5ms/step - loss: 6857.8896 - accuracy: 0.0970\n",
            "Epoch 8/10\n",
            "32/32 [==============================] - 0s 6ms/step - loss: 7313.6523 - accuracy: 0.0920\n",
            "Epoch 9/10\n",
            "32/32 [==============================] - 0s 7ms/step - loss: 8847.8457 - accuracy: 0.0990\n",
            "Epoch 10/10\n",
            "32/32 [==============================] - 0s 6ms/step - loss: 10149.5537 - accuracy: 0.0980\n",
            "32/32 [==============================] - 0s 5ms/step - loss: 9065.0283 - accuracy: 0.0930\n",
            "0.09300000220537186\n"
          ]
        }
      ],
      "source": [
        "from tensorflow import keras\n",
        "from keras.models import Sequential\n",
        "from keras.layers import Dense, Dropout\n",
        "\n",
        "model = Sequential()\n",
        "model.add(Dense(512, activation='relu', input_dim=784))\n",
        "model.add(Dropout(0.2))\n",
        "model.add(Dense(10, activation='softmax'))\n",
        "model.compile(optimizer='adam', loss='categorical_crossentropy', metrics=['accuracy'])\n",
        "\n",
        "import numpy as np\n",
        "data = np.random.random((1000, 784))\n",
        "labels = np.random.randint(10, size=(1000, 10))\n",
        "\n",
        "model.fit(data, labels, epochs=10, batch_size=32)\n",
        "\n",
        "score=model.evaluate(data, labels)\n",
        "print(score[1])"
      ]
    }
  ]
}